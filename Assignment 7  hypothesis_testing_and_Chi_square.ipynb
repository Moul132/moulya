{
  "nbformat": 4,
  "nbformat_minor": 0,
  "metadata": {
    "colab": {
      "provenance": []
    },
    "kernelspec": {
      "name": "python3",
      "display_name": "Python 3"
    },
    "language_info": {
      "name": "python"
    }
  },
  "cells": [
    {
      "cell_type": "code",
      "execution_count": 2,
      "metadata": {
        "colab": {
          "base_uri": "https://localhost:8080/"
        },
        "id": "tLHXz3eV8dFC",
        "outputId": "4c40e96e-07ab-42fa-ab29-939ff7b25ac4"
      },
      "outputs": [
        {
          "output_type": "stream",
          "name": "stdout",
          "text": [
            "Sample Mean (x̄): 3050\n",
            "Theoretical Mean (μ): 4000\n",
            "Standard Deviation (σ): 125\n",
            "Sample Size (n): 25\n",
            "Test Statistic (t): -38.0\n",
            "Critical Value (Z): 1.6448536269514722\n",
            "Fail to reject the null hypothesis (H0). There is not enough evidence to support the claim that the weekly operating costs are higher than the model suggests.\n"
          ]
        }
      ],
      "source": [
        "import numpy as np\n",
        "import scipy.stats as stats\n",
        "\n",
        "# Given data\n",
        "sample_mean = 3050\n",
        "theoretical_mean = 1000 + 5 * 600\n",
        "sigma = 5 * 25\n",
        "n = 25\n",
        "\n",
        "# Calculate the test statistic\n",
        "t_statistic = (sample_mean - theoretical_mean) / (sigma / np.sqrt(n))\n",
        "\n",
        "# Significance level\n",
        "alpha = 0.05\n",
        "\n",
        "# Critical value from the Z distribution\n",
        "critical_value = stats.norm.ppf(1 - alpha)\n",
        "\n",
        "# Print results\n",
        "print(f\"Sample Mean (x̄): {sample_mean}\")\n",
        "print(f\"Theoretical Mean (μ): {theoretical_mean}\")\n",
        "print(f\"Standard Deviation (σ): {sigma}\")\n",
        "print(f\"Sample Size (n): {n}\")\n",
        "print(f\"Test Statistic (t): {t_statistic}\")\n",
        "print(f\"Critical Value (Z): {critical_value}\")\n",
        "\n",
        "# Decision\n",
        "if t_statistic > critical_value:\n",
        "    print(\"Reject the null hypothesis (H0). There is strong evidence to support the claim that the weekly operating costs are higher than the model suggests.\")\n",
        "else:\n",
        "    print(\"Fail to reject the null hypothesis (H0). There is not enough evidence to support the claim that the weekly operating costs are higher than the model suggests.\")\n"
      ]
    },
    {
      "cell_type": "code",
      "source": [
        "##Based on the comparison between the test statistic and the critical value, we decide whether to reject the null hypothesis .The detailed results and decision are printed in the output"
      ],
      "metadata": {
        "id": "3i2jB8E09wEH"
      },
      "execution_count": 3,
      "outputs": []
    },
    {
      "cell_type": "code",
      "source": [
        "##chi square test"
      ],
      "metadata": {
        "id": "EIEcRwHm-Jle"
      },
      "execution_count": 4,
      "outputs": []
    },
    {
      "cell_type": "code",
      "source": [
        "import numpy as np\n",
        "import scipy.stats as stats\n",
        "\n",
        "# Data provided\n",
        "data = np.array([[50, 70],\n",
        "                 [80, 100],\n",
        "                 [60, 90],\n",
        "                 [30, 50],\n",
        "                 [20, 50]])\n",
        "\n",
        "# Perform the Chi-Square test\n",
        "chi2, p, dof, expected = stats.chi2_contingency(data)\n",
        "\n",
        "# Significance level\n",
        "alpha = 0.05\n",
        "\n",
        "# Critical value\n",
        "critical_value = stats.chi2.ppf(1 - alpha, dof)\n",
        "\n",
        "# Print results\n",
        "print(f\"Chi-Square Statistic: {chi2}\")\n",
        "print(f\"p-value: {p}\")\n",
        "print(f\"Degrees of Freedom: {dof}\")\n",
        "print(f\"Critical Value: {critical_value}\")\n",
        "print(f\"Expected Frequencies: \\n{expected}\")\n",
        "\n",
        "# Decision\n",
        "if chi2 > critical_value:\n",
        "    print(\"Reject the null hypothesis (H0). There is a significant association between the type of device and customer satisfaction.\")\n",
        "else:\n",
        "    print(\"Fail to reject the null hypothesis (H0). There is no significant association between the type of device and customer satisfaction.\")\n"
      ],
      "metadata": {
        "colab": {
          "base_uri": "https://localhost:8080/"
        },
        "id": "BEoSdLdB-bf2",
        "outputId": "99865e0b-51f4-42a9-a097-9251b302eaa5"
      },
      "execution_count": 5,
      "outputs": [
        {
          "output_type": "stream",
          "name": "stdout",
          "text": [
            "Chi-Square Statistic: 5.638227513227513\n",
            "p-value: 0.22784371130697179\n",
            "Degrees of Freedom: 4\n",
            "Critical Value: 9.487729036781154\n",
            "Expected Frequencies: \n",
            "[[ 48.  72.]\n",
            " [ 72. 108.]\n",
            " [ 60.  90.]\n",
            " [ 32.  48.]\n",
            " [ 28.  42.]]\n",
            "Fail to reject the null hypothesis (H0). There is no significant association between the type of device and customer satisfaction.\n"
          ]
        }
      ]
    },
    {
      "cell_type": "code",
      "source": [
        "## output of the analysis\n",
        "##1.Observed data : The contingency table is represented in 2D Numpy array.\n",
        "## 2.Chi-square Test : stats.chi2_contingency(observed)  computes the chi_square statistic,p-value,degrees of freedom ,and expected freqency\n",
        "##3.Critical Value: The critical value for a significance level of 0.05 and 4 degrees of freedom is obtained using the chi-square distribution's percent point function (pt)\n",
        "## 4.Decision: If the Chi-Square statistic exceeds the critical value, we reject the null hypothesis; otherwise, we fail to reject it."
      ],
      "metadata": {
        "id": "JI_I3MR6-jI3"
      },
      "execution_count": 6,
      "outputs": []
    },
    {
      "cell_type": "code",
      "source": [
        "## Conclusion\n",
        "##After running the Python code, you'll get the following:\n",
        "##* Chi-Square Statistic: The calculated Chi-Square value from the observed data.\n",
        "##* P-value: The probability of obtaining a result at least as extreme as the observed one under the null hypothesis.\n",
        "##* Decision: Whether or not to reject the null hypothesis based on the comparison between the Chi-Square statistic and the critical value."
      ],
      "metadata": {
        "id": "WZGdo61WAIGx"
      },
      "execution_count": 7,
      "outputs": []
    },
    {
      "cell_type": "code",
      "source": [],
      "metadata": {
        "id": "6-sjEDHNAarJ"
      },
      "execution_count": null,
      "outputs": []
    }
  ]
}