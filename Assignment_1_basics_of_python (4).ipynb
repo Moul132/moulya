{
  "nbformat": 4,
  "nbformat_minor": 0,
  "metadata": {
    "colab": {
      "provenance": []
    },
    "kernelspec": {
      "name": "python3",
      "display_name": "Python 3"
    },
    "language_info": {
      "name": "python"
    }
  },
  "cells": [
    {
      "cell_type": "code",
      "execution_count": null,
      "metadata": {
        "id": "NS2y2Kje9-Tn"
      },
      "outputs": [],
      "source": [
        "##1. Write a Python program that checks whether a given number is prime or not. A prime number is a natural number greater than 1 that has no positive divisors other than 1 and itself.\n",
        "\n",
        "import math\n",
        "def test_prime(n):\n",
        "    if (n == 1):\n",
        "        return False\n",
        "    elif (n == 2):\n",
        "        return True\n",
        "    else:\n",
        "        for x in range(3, n):\n",
        "            if (n % x == 0):\n",
        "                return False\n",
        "        return True\n",
        "        print(test_prime(n))"
      ]
    },
    {
      "cell_type": "code",
      "source": [
        "print(test_prime(21))"
      ],
      "metadata": {
        "colab": {
          "base_uri": "https://localhost:8080/"
        },
        "id": "eSSCN53A-9ev",
        "outputId": "4e91631a-551b-40ad-8882-704d92e4900c"
      },
      "execution_count": null,
      "outputs": [
        {
          "output_type": "stream",
          "name": "stdout",
          "text": [
            "False\n"
          ]
        }
      ]
    },
    {
      "cell_type": "code",
      "source": [
        "print(test_prime(4))"
      ],
      "metadata": {
        "colab": {
          "base_uri": "https://localhost:8080/"
        },
        "id": "vwC3ubCE_d2e",
        "outputId": "0bf1fb08-6b78-422f-ac24-80bee22c141a"
      },
      "execution_count": null,
      "outputs": [
        {
          "output_type": "stream",
          "name": "stdout",
          "text": [
            "True\n"
          ]
        }
      ]
    },
    {
      "cell_type": "code",
      "source": [
        "##2. Develop a Python program that generates two random numbers and asks the user to enter the product of these numbers. The program should then check if the user's answer is correct and display an appropriate message.\n",
        "\n",
        "import random\n",
        "\n",
        "def main():\n",
        "\n",
        "    num1 = random.randint(1, 20)\n",
        "    num2 = random.randint(1, 20)\n",
        "\n",
        "\n",
        "    correct_product = num1 * num2\n",
        "\n",
        "\n",
        "    user_answer = int(input(f\"What is the product of {num1} and {num2}? \"))\n",
        "\n",
        "\n",
        "    if user_answer == correct_product:\n",
        "        print(\"Congratulations! You got it right.\")\n",
        "    else:\n",
        "        print(f\"Sorry, that's not correct. The correct answer is {correct_product}.\") ## the use of {correct_product} within the print function should be prefixed with an f\n",
        "\n",
        "if __name__ == \"__main__\":\n",
        "    main()"
      ],
      "metadata": {
        "colab": {
          "base_uri": "https://localhost:8080/"
        },
        "id": "8jZojs-N_qt7",
        "outputId": "f37abbdf-7616-405f-f18d-da7f45333d64"
      },
      "execution_count": null,
      "outputs": [
        {
          "output_type": "stream",
          "name": "stdout",
          "text": [
            "What is the product of 8 and 8? 64\n",
            "Congratulations! You got it right.\n"
          ]
        }
      ]
    },
    {
      "cell_type": "code",
      "source": [
        "##3.  Create a Python script that prints the squares of all even or odd numbers within the range of 100 to 200. Choose either even or odd numbers and document your choice in the code.\n",
        "import math\n",
        "start = 100\n",
        "end = 200\n",
        "\n",
        "for num in range(start, end + 1):\n",
        "\n",
        "    if num % 2 != 0:\n",
        "        square = num ** 2\n",
        "        print(f\"The square of {num} is {square}\")"
      ],
      "metadata": {
        "colab": {
          "base_uri": "https://localhost:8080/"
        },
        "id": "F3S1Gw_zA8YP",
        "outputId": "76bf473a-fa17-4c4f-a3ae-57feaf0db666"
      },
      "execution_count": null,
      "outputs": [
        {
          "output_type": "stream",
          "name": "stdout",
          "text": [
            "The square of 101 is 10201\n",
            "The square of 103 is 10609\n",
            "The square of 105 is 11025\n",
            "The square of 107 is 11449\n",
            "The square of 109 is 11881\n",
            "The square of 111 is 12321\n",
            "The square of 113 is 12769\n",
            "The square of 115 is 13225\n",
            "The square of 117 is 13689\n",
            "The square of 119 is 14161\n",
            "The square of 121 is 14641\n",
            "The square of 123 is 15129\n",
            "The square of 125 is 15625\n",
            "The square of 127 is 16129\n",
            "The square of 129 is 16641\n",
            "The square of 131 is 17161\n",
            "The square of 133 is 17689\n",
            "The square of 135 is 18225\n",
            "The square of 137 is 18769\n",
            "The square of 139 is 19321\n",
            "The square of 141 is 19881\n",
            "The square of 143 is 20449\n",
            "The square of 145 is 21025\n",
            "The square of 147 is 21609\n",
            "The square of 149 is 22201\n",
            "The square of 151 is 22801\n",
            "The square of 153 is 23409\n",
            "The square of 155 is 24025\n",
            "The square of 157 is 24649\n",
            "The square of 159 is 25281\n",
            "The square of 161 is 25921\n",
            "The square of 163 is 26569\n",
            "The square of 165 is 27225\n",
            "The square of 167 is 27889\n",
            "The square of 169 is 28561\n",
            "The square of 171 is 29241\n",
            "The square of 173 is 29929\n",
            "The square of 175 is 30625\n",
            "The square of 177 is 31329\n",
            "The square of 179 is 32041\n",
            "The square of 181 is 32761\n",
            "The square of 183 is 33489\n",
            "The square of 185 is 34225\n",
            "The square of 187 is 34969\n",
            "The square of 189 is 35721\n",
            "The square of 191 is 36481\n",
            "The square of 193 is 37249\n",
            "The square of 195 is 38025\n",
            "The square of 197 is 38809\n",
            "The square of 199 is 39601\n"
          ]
        }
      ]
    },
    {
      "cell_type": "code",
      "source": [
        "##4. write a program to count the number of words in a given text.\n",
        "\n",
        "from collections import Counter\n",
        "import re\n",
        "\n",
        "def count_words(text):\n",
        "\n",
        "    words = re.findall(r'\\b\\w+\\b', text.lower())\n",
        "\n",
        "    word_count = Counter(words)\n",
        "    return word_count\n",
        "\n",
        "def display_word_count(word_count):\n",
        "    for word, count in word_count.items():\n",
        "        print(f\"'{word}': {count}\")\n",
        "\n",
        "if __name__ == \"__main__\":\n",
        "\n",
        "    input_text = \"This is a sample text. This text will be used to demonstrate the word counter.\"\n",
        "\n",
        "    word_count = count_words(input_text)\n",
        "\n",
        "    display_word_count(word_count)"
      ],
      "metadata": {
        "id": "9Y5UBQLTDpl1",
        "colab": {
          "base_uri": "https://localhost:8080/"
        },
        "outputId": "e46bfa2d-2bfe-4072-f141-2f56e9693f23"
      },
      "execution_count": null,
      "outputs": [
        {
          "output_type": "stream",
          "name": "stdout",
          "text": [
            "'this': 2\n",
            "'is': 1\n",
            "'a': 1\n",
            "'sample': 1\n",
            "'text': 2\n",
            "'will': 1\n",
            "'be': 1\n",
            "'used': 1\n",
            "'to': 1\n",
            "'demonstrate': 1\n",
            "'the': 1\n",
            "'word': 1\n",
            "'counter': 1\n"
          ]
        }
      ]
    },
    {
      "cell_type": "code",
      "source": [
        "## 5.Write a Python function called is_palindrome that takes a string as input and returns True if the string is a palindrome, and False otherwise. A palindrome is a word, phrase, number, or other sequence of characters that reads the same forward and backward, ignoring spaces, punctuation, and capitalization.\n",
        "\n",
        "import re\n",
        "\n",
        "def is_palindrome(s):\n",
        "\n",
        "    s = s.lower()\n",
        "\n",
        "    cleaned_s = re.sub(r'[^a-z0-9]', '', s)\n",
        "\n",
        "    return cleaned_s == cleaned_s[::-1]\n",
        "\n",
        "if __name__ == \"__main__\":\n",
        "    test_strings = [\n",
        "        \"civic\",\n",
        "        \"refer\",\n",
        "        \"Hello World!\",\n",
        "        \"Racecar\",\n",
        "        \"Python\"\n",
        "    ]\n",
        "\n",
        "    for text in test_strings:\n",
        "        print(f\"'{text}' is a palindrome: {is_palindrome(text)}\")"
      ],
      "metadata": {
        "colab": {
          "base_uri": "https://localhost:8080/"
        },
        "id": "3Xpgb44gIbK0",
        "outputId": "c345b22d-38f6-42e7-aaf3-562e6a08c33e"
      },
      "execution_count": null,
      "outputs": [
        {
          "output_type": "stream",
          "name": "stdout",
          "text": [
            "'civic' is a palindrome: True\n",
            "'refer' is a palindrome: True\n",
            "'Hello World!' is a palindrome: False\n",
            "'Racecar' is a palindrome: True\n",
            "'Python' is a palindrome: False\n"
          ]
        }
      ]
    }
  ]
}