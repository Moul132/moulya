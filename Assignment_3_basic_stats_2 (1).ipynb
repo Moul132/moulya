{
  "nbformat": 4,
  "nbformat_minor": 0,
  "metadata": {
    "colab": {
      "provenance": []
    },
    "kernelspec": {
      "name": "python3",
      "display_name": "Python 3"
    },
    "language_info": {
      "name": "python"
    }
  },
  "cells": [
    {
      "cell_type": "code",
      "execution_count": 2,
      "metadata": {
        "colab": {
          "base_uri": "https://localhost:8080/"
        },
        "id": "aov8AR0ETSae",
        "outputId": "86ce2c16-9756-4715-bfc3-9f836b619cef"
      },
      "outputs": [
        {
          "output_type": "stream",
          "name": "stdout",
          "text": [
            "Mean Durability: 1.24 million characters\n",
            "Median Durability: 1.25 million characters\n",
            "Standard Deviation of Durability: 0.19 million characters\n",
            "Variance of Durability: 0.0373 million characters squared\n"
          ]
        }
      ],
      "source": [
        "import numpy as np\n",
        "\n",
        "durability_data = np.array([1.13, 1.55, 1.43, 0.92, 1.25, 1.36, 1.32, 0.85, 1.07, 1.48, 1.20, 1.33, 1.18, 1.22, 1.29])\n",
        "\n",
        "mean_durability = np.mean(durability_data)\n",
        "\n",
        "median_durability = np.median(durability_data)\n",
        "\n",
        "\n",
        "std_dev_durability = np.std(durability_data, ddof=1)\n",
        "variance_durability = np.var(durability_data, ddof=1)\n",
        "print(f\"Mean Durability: {mean_durability:.2f} million characters\")\n",
        "print(f\"Median Durability: {median_durability:.2f} million characters\")\n",
        "print(f\"Standard Deviation of Durability: {std_dev_durability:.2f} million characters\")\n",
        "print(f\"Variance of Durability: {variance_durability:.4f} million characters squared\")"
      ]
    },
    {
      "cell_type": "code",
      "source": [
        "import numpy as np\n",
        "from scipy import stats\n",
        "\n",
        "durability_data = np.array([1.13, 1.55, 1.43, 0.92, 1.25, 1.36, 1.32, 0.85, 1.07, 1.48, 1.20, 1.33, 1.18, 1.22, 1.29])\n",
        "\n",
        "x_bar = np.mean(durability_data)\n",
        "s = np.std(durability_data, ddof=1)\n",
        "\n",
        "n = len(durability_data)\n",
        "df = n - 1\n",
        "alpha = 0.01\n",
        "t_crit = stats.t.ppf(1 - alpha / 2, df)\n",
        "\n",
        "E = t_crit * (s / np.sqrt(n))\n",
        "\n",
        "CI = (x_bar - E, x_bar + E)\n",
        "\n",
        "print(f\"99% Confidence Interval: ({CI[0]:.2f}, {CI[1]:.2f})\")"
      ],
      "metadata": {
        "colab": {
          "base_uri": "https://localhost:8080/"
        },
        "id": "zjtgsf4oTmsg",
        "outputId": "804d7875-92cd-4461-f576-536e73f834a2"
      },
      "execution_count": 4,
      "outputs": [
        {
          "output_type": "stream",
          "name": "stdout",
          "text": [
            "99% Confidence Interval: (1.09, 1.39)\n"
          ]
        }
      ]
    },
    {
      "cell_type": "code",
      "source": [
        "import numpy as np\n",
        "from scipy import stats\n",
        "\n",
        "durability_data = np.array([1.13, 1.55, 1.43, 0.92, 1.25, 1.36, 1.32, 0.85, 1.07, 1.48, 1.20, 1.33, 1.18, 1.22, 1.29])\n",
        "\\\n",
        "x_bar = np.mean(durability_data)\n",
        "sigma = 0.2\n",
        "\n",
        "alpha = 0.01\n",
        "z_crit = stats.norm.ppf(1 - alpha / 2)\n",
        "\n",
        "E = z_crit * (sigma / np.sqrt(len(durability_data)))\n",
        "\n",
        "CI = (x_bar - E, x_bar + E)\n",
        "\n",
        "print(f\"99% Confidence Interval: ({CI[0]:.2f}, {CI[1]:.2f})\")"
      ],
      "metadata": {
        "colab": {
          "base_uri": "https://localhost:8080/"
        },
        "id": "T7pJD_6_T5e2",
        "outputId": "d2472960-c8be-4708-9d89-8718fc0f8f56"
      },
      "execution_count": 5,
      "outputs": [
        {
          "output_type": "stream",
          "name": "stdout",
          "text": [
            "99% Confidence Interval: (1.11, 1.37)\n"
          ]
        }
      ]
    }
  ]
}